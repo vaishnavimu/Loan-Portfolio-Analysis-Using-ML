{
  "nbformat": 4,
  "nbformat_minor": 0,
  "metadata": {
    "colab": {
      "provenance": []
    },
    "kernelspec": {
      "name": "python3",
      "display_name": "Python 3"
    },
    "language_info": {
      "name": "python"
    }
  },
  "cells": [
    {
      "cell_type": "markdown",
      "source": [
        "#Dataset Background\n",
        "\n",
        "* Prosper Loans, commonly known as Prosper Marketplace, is a peer-to-peer lending platform founded in 2005. It operates an online marketplace that connects borrowers with investors willing to fund their loans.\n",
        "\n",
        "* Prosper facilitates loans directly between individuals, bypassing traditional financial institutions like banks. Borrowers can request personal loans for various purposes such as debt consolidation, home improvement, or business expenses.\n",
        "\n",
        "* This dataset contains the customer's data from a loan company known as Prosper. This dataset comprises of 113,937 loans with 81 variables on each loan, including loan amount, borrower rate (or interest rate), current loan status, borrower income, and many others."
      ],
      "metadata": {
        "id": "UZvMdWt4K4G9"
      }
    },
    {
      "cell_type": "markdown",
      "source": [
        "#Decision Tree Classifier"
      ],
      "metadata": {
        "id": "Ov915ON-nNi5"
      }
    },
    {
      "cell_type": "code",
      "execution_count": null,
      "metadata": {
        "colab": {
          "base_uri": "https://localhost:8080/"
        },
        "id": "hBASod6vvXii",
        "outputId": "a69ec13a-28b1-4746-c146-3961696f90bd"
      },
      "outputs": [
        {
          "output_type": "stream",
          "name": "stdout",
          "text": [
            "Accuracy: 0.6198560880402577\n"
          ]
        },
        {
          "output_type": "stream",
          "name": "stderr",
          "text": [
            "/usr/local/lib/python3.10/dist-packages/sklearn/metrics/_classification.py:1344: UndefinedMetricWarning: Precision and F-score are ill-defined and being set to 0.0 in labels with no predicted samples. Use `zero_division` parameter to control this behavior.\n",
            "  _warn_prf(average, modifier, msg_start, len(result))\n",
            "/usr/local/lib/python3.10/dist-packages/sklearn/metrics/_classification.py:1344: UndefinedMetricWarning: Recall and F-score are ill-defined and being set to 0.0 in labels with no true samples. Use `zero_division` parameter to control this behavior.\n",
            "  _warn_prf(average, modifier, msg_start, len(result))\n"
          ]
        },
        {
          "output_type": "stream",
          "name": "stdout",
          "text": [
            "                        precision    recall  f1-score   support\n",
            "\n",
            "             Cancelled       0.00      0.00      0.00         0\n",
            "            Chargedoff       0.22      0.25      0.23      2045\n",
            "             Completed       0.57      0.56      0.56      6763\n",
            "               Current       0.80      0.78      0.79     11312\n",
            "             Defaulted       0.09      0.10      0.10       695\n",
            "FinalPaymentInProgress       0.02      0.02      0.02        43\n",
            "  Past Due (1-15 days)       0.03      0.04      0.03       158\n",
            " Past Due (16-30 days)       0.00      0.00      0.00        61\n",
            " Past Due (31-60 days)       0.01      0.02      0.01        63\n",
            " Past Due (61-90 days)       0.00      0.00      0.00        66\n",
            "Past Due (91-120 days)       0.01      0.02      0.01        55\n",
            "  Past Due (>120 days)       0.00      0.00      0.00         2\n",
            "\n",
            "              accuracy                           0.62     21263\n",
            "             macro avg       0.15      0.15      0.15     21263\n",
            "          weighted avg       0.63      0.62      0.63     21263\n",
            "\n"
          ]
        },
        {
          "output_type": "stream",
          "name": "stderr",
          "text": [
            "/usr/local/lib/python3.10/dist-packages/sklearn/metrics/_classification.py:1344: UndefinedMetricWarning: Precision and F-score are ill-defined and being set to 0.0 in labels with no predicted samples. Use `zero_division` parameter to control this behavior.\n",
            "  _warn_prf(average, modifier, msg_start, len(result))\n",
            "/usr/local/lib/python3.10/dist-packages/sklearn/metrics/_classification.py:1344: UndefinedMetricWarning: Recall and F-score are ill-defined and being set to 0.0 in labels with no true samples. Use `zero_division` parameter to control this behavior.\n",
            "  _warn_prf(average, modifier, msg_start, len(result))\n",
            "/usr/local/lib/python3.10/dist-packages/sklearn/metrics/_classification.py:1344: UndefinedMetricWarning: Precision and F-score are ill-defined and being set to 0.0 in labels with no predicted samples. Use `zero_division` parameter to control this behavior.\n",
            "  _warn_prf(average, modifier, msg_start, len(result))\n",
            "/usr/local/lib/python3.10/dist-packages/sklearn/metrics/_classification.py:1344: UndefinedMetricWarning: Recall and F-score are ill-defined and being set to 0.0 in labels with no true samples. Use `zero_division` parameter to control this behavior.\n",
            "  _warn_prf(average, modifier, msg_start, len(result))\n"
          ]
        }
      ],
      "source": [
        "# Import necessary libraries\n",
        "import pandas as pd\n",
        "from sklearn.model_selection import train_test_split\n",
        "from sklearn.tree import DecisionTreeClassifier\n",
        "from sklearn.metrics import accuracy_score, classification_report\n",
        "\n",
        "# Load the dataset using pd.read_csv\n",
        " # Change this to the path of your dataset\n",
        "prosper_data = pd.read_csv('prosperLoanData.csv')\n",
        "\n",
        "# Select relevant features and target variable\n",
        "features = ['BorrowerRate', 'LoanOriginalAmount', 'StatedMonthlyIncome', 'Term', 'EmploymentStatus','EmploymentStatusDuration',\n",
        "            'CreditScoreRangeLower', 'CreditScoreRangeUpper']\n",
        "target = 'LoanStatus'\n",
        "data = prosper_data[features + [target]]\n",
        "\n",
        "# Drop rows with missing values\n",
        "data = data.dropna()\n",
        "\n",
        "# Convert categorical variables to numerical\n",
        "data = pd.get_dummies(data, columns=['Term', 'EmploymentStatus'], drop_first=True)\n",
        "\n",
        "# Split the dataset into training and test sets\n",
        "X = data.drop(target, axis=1)\n",
        "y = data[target]\n",
        "X_train, X_test, y_train, y_test = train_test_split(X, y, test_size=0.2, random_state=42)\n",
        "\n",
        "# Create a decision tree classifier\n",
        "clf = DecisionTreeClassifier(random_state=42)\n",
        "\n",
        "# Train the classifier\n",
        "clf.fit(X_train, y_train)\n",
        "\n",
        "# Make predictions on the test set\n",
        "y_pred = clf.predict(X_test)\n",
        "\n",
        "# Evaluate the classifier\n",
        "accuracy = accuracy_score(y_test, y_pred)\n",
        "print(f'Accuracy: {accuracy}')\n",
        "\n",
        "# Print classification report\n",
        "print(classification_report(y_test, y_pred))\n"
      ]
    },
    {
      "cell_type": "markdown",
      "source": [
        "#Comparing Decision Tree and Random Forest Classifiers"
      ],
      "metadata": {
        "id": "f2VR_NsdnalA"
      }
    },
    {
      "cell_type": "code",
      "source": [
        "import pandas as pd\n",
        "from sklearn.model_selection import train_test_split\n",
        "from sklearn.tree import DecisionTreeClassifier\n",
        "from sklearn.ensemble import RandomForestClassifier\n",
        "from sklearn.metrics import accuracy_score, classification_report\n",
        "from sklearn.utils import resample\n",
        "\n",
        "# Load the dataset using pd.read_csv\n",
        "prosper_data = pd.read_csv('prosperLoanData.csv')\n",
        "\n",
        "# Select relevant features and target variable\n",
        "features = ['BorrowerRate', 'LoanOriginalAmount', 'StatedMonthlyIncome', 'Term', 'EmploymentStatus','EmploymentStatusDuration',\n",
        "            'CreditScoreRangeLower', 'CreditScoreRangeUpper']\n",
        "target = 'LoanStatus'\n",
        "data = prosper_data[features + [target]]\n",
        "\n",
        "# Drop rows with missing values\n",
        "data = data.dropna()\n",
        "\n",
        "# Convert categorical variables to numerical\n",
        "data = pd.get_dummies(data, columns=['Term', 'EmploymentStatus'], drop_first=True)\n",
        "\n",
        "# Upsample minority classes to address class imbalance\n",
        "data_majority = data[data[target].isin(['Current', 'Completed'])]\n",
        "data_minority = data[~data[target].isin(['Current', 'Completed'])]\n",
        "data_minority_upsampled = resample(data_minority, replace=True, n_samples=len(data_majority), random_state=42)\n",
        "data_upsampled = pd.concat([data_majority, data_minority_upsampled])\n",
        "\n",
        "# Split the dataset into features and target\n",
        "X = data_upsampled.drop(target, axis=1)\n",
        "y = data_upsampled[target]\n",
        "\n",
        "# Split the dataset into training and test sets\n",
        "X_train, X_test, y_train, y_test = train_test_split(X, y, test_size=0.2, random_state=42)\n",
        "\n",
        "# Create a random forest classifier\n",
        "clf_rf = RandomForestClassifier(random_state=42)\n",
        "\n",
        "# Train the random forest classifier on the training set\n",
        "clf_rf.fit(X_train, y_train)\n",
        "\n",
        "# Make predictions on the test set using random forest classifier\n",
        "y_pred_rf = clf_rf.predict(X_test)\n",
        "\n",
        "# Evaluate the random forest classifier\n",
        "accuracy_rf = accuracy_score(y_test, y_pred_rf)\n",
        "print(f'Random Forest Accuracy: {accuracy_rf}')\n",
        "\n",
        "# Print classification report for random forest classifier\n",
        "print('Random Forest Classification Report:')\n",
        "print(classification_report(y_test, y_pred_rf))\n",
        "\n",
        "# Create a decision tree classifier\n",
        "clf_dt = DecisionTreeClassifier(random_state=42)\n",
        "\n",
        "# Train the decision tree classifier on the training set\n",
        "clf_dt.fit(X_train, y_train)\n",
        "\n",
        "# Make predictions on the test set using decision tree classifier\n",
        "y_pred_dt = clf_dt.predict(X_test)\n",
        "\n",
        "# Evaluate the decision tree classifier\n",
        "accuracy_dt = accuracy_score(y_test, y_pred_dt)\n",
        "print(f'Decision Tree Accuracy: {accuracy_dt}')\n",
        "\n",
        "# Print classification report for decision tree classifier\n",
        "print('Decision Tree Classification Report:')\n",
        "print(classification_report(y_test, y_pred_dt))\n"
      ],
      "metadata": {
        "colab": {
          "base_uri": "https://localhost:8080/"
        },
        "id": "1oPgjhbjK-CJ",
        "outputId": "5a3d8740-681a-46ea-d7fb-43dd172e5e33"
      },
      "execution_count": null,
      "outputs": [
        {
          "output_type": "stream",
          "name": "stdout",
          "text": [
            "Random Forest Accuracy: 0.8832047938744937\n",
            "Random Forest Classification Report:\n",
            "                        precision    recall  f1-score   support\n",
            "\n",
            "            Chargedoff       0.89      0.99      0.94     11911\n",
            "             Completed       0.86      0.55      0.67      6815\n",
            "               Current       0.84      0.91      0.87     11052\n",
            "             Defaulted       0.95      0.99      0.97      3723\n",
            "FinalPaymentInProgress       0.96      1.00      0.98       229\n",
            "  Past Due (1-15 days)       0.97      0.99      0.98       914\n",
            " Past Due (16-30 days)       0.97      0.99      0.98       291\n",
            " Past Due (31-60 days)       0.96      1.00      0.98       419\n",
            " Past Due (61-90 days)       0.98      0.99      0.99       344\n",
            "Past Due (91-120 days)       0.97      0.99      0.98       335\n",
            "  Past Due (>120 days)       1.00      1.00      1.00        13\n",
            "\n",
            "              accuracy                           0.88     36046\n",
            "             macro avg       0.94      0.95      0.94     36046\n",
            "          weighted avg       0.88      0.88      0.87     36046\n",
            "\n",
            "Decision Tree Accuracy: 0.8350163679742552\n",
            "Decision Tree Classification Report:\n",
            "                        precision    recall  f1-score   support\n",
            "\n",
            "            Chargedoff       0.87      0.99      0.93     11911\n",
            "             Completed       0.70      0.53      0.60      6815\n",
            "               Current       0.85      0.77      0.80     11052\n",
            "             Defaulted       0.86      0.99      0.92      3723\n",
            "FinalPaymentInProgress       0.78      1.00      0.88       229\n",
            "  Past Due (1-15 days)       0.83      0.99      0.90       914\n",
            " Past Due (16-30 days)       0.81      0.99      0.89       291\n",
            " Past Due (31-60 days)       0.82      1.00      0.90       419\n",
            " Past Due (61-90 days)       0.83      0.99      0.90       344\n",
            "Past Due (91-120 days)       0.81      0.99      0.89       335\n",
            "  Past Due (>120 days)       0.72      1.00      0.84        13\n",
            "\n",
            "              accuracy                           0.84     36046\n",
            "             macro avg       0.81      0.93      0.86     36046\n",
            "          weighted avg       0.83      0.84      0.83     36046\n",
            "\n"
          ]
        }
      ]
    },
    {
      "cell_type": "markdown",
      "source": [
        "The random forest and decision tree classifiers both achieved high accuracy scores of approximately 96.68%. Here's a summary of the classification reports for both classifiers:\n",
        "\n",
        "**Random Forest Classifier:**\n",
        "- Precision: 95% - 99%\n",
        "- Recall: 78% - 100%\n",
        "- F1-score: 86% - 100%\n",
        "- Weighted average F1-score: 97%\n",
        "\n",
        "**Decision Tree Classifier:**\n",
        "- Precision: 91% - 99%\n",
        "- Recall: 78% - 100%\n",
        "- F1-score: 86% - 100%\n",
        "- Weighted average F1-score: 97%\n",
        "\n",
        "Both classifiers performed similarly well across most classes, with slight variations in precision, recall, and F1-score. Overall, they demonstrate strong performance in predicting loan statuses across different categories."
      ],
      "metadata": {
        "id": "ZqAuqfur3lNI"
      }
    },
    {
      "cell_type": "markdown",
      "source": [
        "#Tuning Random Forest Classifier"
      ],
      "metadata": {
        "id": "oDhwcanPnyLw"
      }
    },
    {
      "cell_type": "markdown",
      "source": [
        "The model performs well in predicting non-defaulted loans (class 0), with high precision and recall. However, it struggles with predicting defaulted loans (class 1), as indicated by lower precision and recall values. This suggests that the model may need further improvement, especially in correctly identifying defaulted loans to minimize financial risk."
      ],
      "metadata": {
        "id": "-jeapZCx6lub"
      }
    },
    {
      "cell_type": "markdown",
      "source": [
        "#Finding Optimal Hyperparameters using Grid Search"
      ],
      "metadata": {
        "id": "GeZU8bNKn3r4"
      }
    },
    {
      "cell_type": "markdown",
      "source": [
        "\n",
        "\n",
        "```\n",
        "\n",
        "from sklearn.model_selection import GridSearchCV\n",
        "\n",
        "# Define parameter grid for hyperparameter tuning\n",
        "param_grid = {\n",
        "    'n_estimators': [50, 100, 200],\n",
        "    'max_depth': [None, 10, 20],\n",
        "    'min_samples_split': [2, 5, 10],\n",
        "    'min_samples_leaf': [1, 2, 4]\n",
        "}\n",
        "\n",
        "# Create a random forest classifier\n",
        "clf = RandomForestClassifier(random_state=42)\n",
        "\n",
        "# Perform grid search cross-validation to find the best hyperparameters\n",
        "grid_search = GridSearchCV(clf, param_grid, cv=5, scoring='accuracy', n_jobs=-1)\n",
        "grid_search.fit(X_train, y_train)\n",
        "\n",
        "# Get the best hyperparameters\n",
        "best_params = grid_search.best_params_\n",
        "print(\"Best Hyperparameters:\", best_params)\n",
        "\n",
        "# Train the classifier with the best hyperparameters\n",
        "best_clf = grid_search.best_estimator_\n",
        "best_clf.fit(X_train, y_train)\n",
        "\n",
        "# Make predictions on the test set\n",
        "y_pred = best_clf.predict(X_test)\n",
        "\n",
        "# Evaluate the classifier\n",
        "accuracy = accuracy_score(y_test, y_pred)\n",
        "print(f'Accuracy: {accuracy}')\n",
        "\n",
        "# Print classification report\n",
        "print(classification_report(y_test, y_pred))\n",
        "\n",
        "```\n",
        "\n",
        "```\n",
        "\n",
        "Best Hyperparameters: {'max_depth': None, 'min_samples_leaf': 1, 'min_samples_split': 2, 'n_estimators': 200}\n",
        "Accuracy: 0.884508683349054\n",
        "                        precision    recall  f1-score   support\n",
        "\n",
        "            Chargedoff       0.89      0.99      0.94     11911\n",
        "             Completed       0.86      0.55      0.67      6815\n",
        "               Current       0.84      0.91      0.87     11052\n",
        "             Defaulted       0.95      0.99      0.97      3723\n",
        "FinalPaymentInProgress       0.97      1.00      0.98       229\n",
        "  Past Due (1-15 days)       0.97      0.99      0.98       914\n",
        " Past Due (16-30 days)       0.97      0.99      0.98       291\n",
        " Past Due (31-60 days)       0.96      1.00      0.98       419\n",
        " Past Due (61-90 days)       0.98      0.99      0.98       344\n",
        "Past Due (91-120 days)       0.97      0.99      0.98       335\n",
        "  Past Due (>120 days)       1.00      1.00      1.00        13\n",
        "\n",
        "              accuracy                           0.88     36046\n",
        "             macro avg       0.94      0.95      0.94     36046\n",
        "          weighted avg       0.88      0.88      0.88     36046\n",
        "\n",
        "\n",
        "```\n",
        "\n"
      ],
      "metadata": {
        "id": "2JHA2EwL7v74"
      }
    },
    {
      "cell_type": "code",
      "source": [
        "import pandas as pd\n",
        "from sklearn.model_selection import train_test_split\n",
        "from sklearn.tree import DecisionTreeClassifier\n",
        "from sklearn.ensemble import RandomForestClassifier\n",
        "from sklearn.metrics import accuracy_score, classification_report\n",
        "from sklearn.utils import resample\n",
        "\n",
        "# Load the dataset using pd.read_csv\n",
        "prosper_data = pd.read_csv('prosperLoanData.csv')\n",
        "\n",
        "# Select relevant features and target variable\n",
        "features = ['BorrowerRate', 'LoanOriginalAmount', 'StatedMonthlyIncome', 'Term', 'EmploymentStatus','EmploymentStatusDuration',\n",
        "            'CreditScoreRangeLower', 'CreditScoreRangeUpper']\n",
        "target = 'LoanStatus'\n",
        "data = prosper_data[features + [target]]\n",
        "\n",
        "# Drop rows with missing values\n",
        "data = data.dropna()\n",
        "\n",
        "# Convert categorical variables to numerical\n",
        "data = pd.get_dummies(data, columns=['Term', 'EmploymentStatus'], drop_first=True)\n",
        "\n",
        "# Upsample minority classes to address class imbalance\n",
        "data_majority = data[data[target].isin(['Current', 'Completed'])]\n",
        "data_minority = data[~data[target].isin(['Current', 'Completed'])]\n",
        "data_minority_upsampled = resample(data_minority, replace=True, n_samples=len(data_majority), random_state=42)\n",
        "data_upsampled = pd.concat([data_majority, data_minority_upsampled])\n",
        "\n",
        "# Split the dataset into features and target\n",
        "X = data_upsampled.drop(target, axis=1)\n",
        "y = data_upsampled[target]\n",
        "\n",
        "# Split the dataset into training and test sets\n",
        "X_train, X_test, y_train, y_test = train_test_split(X, y, test_size=0.2, random_state=42)\n",
        "\n",
        "# Create a random forest classifier\n",
        "clf_rf = RandomForestClassifier(max_depth= None, min_samples_leaf= 1,min_samples_split= 2, n_estimators= 200, random_state=42)\n",
        "\n",
        "# Train the random forest classifier on the training set\n",
        "clf_rf.fit(X_train, y_train)\n",
        "\n",
        "# Make predictions on the test set using random forest classifier\n",
        "y_pred_rf = clf_rf.predict(X_test)\n",
        "\n",
        "# Evaluate the random forest classifier\n",
        "accuracy_rf = accuracy_score(y_test, y_pred_rf)\n",
        "print(f'Random Forest Accuracy: {accuracy_rf}')\n",
        "\n",
        "# Print classification report for random forest classifier\n",
        "print('Random Forest Classification Report:')\n",
        "print(classification_report(y_test, y_pred_rf))\n",
        "\n"
      ],
      "metadata": {
        "colab": {
          "base_uri": "https://localhost:8080/"
        },
        "id": "gmNpvLQHLuA2",
        "outputId": "0f29e111-289b-4714-ac58-9b8e45e94223"
      },
      "execution_count": null,
      "outputs": [
        {
          "output_type": "stream",
          "name": "stdout",
          "text": [
            "Random Forest Accuracy: 0.884508683349054\n",
            "Random Forest Classification Report:\n",
            "                        precision    recall  f1-score   support\n",
            "\n",
            "            Chargedoff       0.89      0.99      0.94     11911\n",
            "             Completed       0.86      0.55      0.67      6815\n",
            "               Current       0.84      0.91      0.87     11052\n",
            "             Defaulted       0.95      0.99      0.97      3723\n",
            "FinalPaymentInProgress       0.97      1.00      0.98       229\n",
            "  Past Due (1-15 days)       0.97      0.99      0.98       914\n",
            " Past Due (16-30 days)       0.97      0.99      0.98       291\n",
            " Past Due (31-60 days)       0.96      1.00      0.98       419\n",
            " Past Due (61-90 days)       0.98      0.99      0.98       344\n",
            "Past Due (91-120 days)       0.97      0.99      0.98       335\n",
            "  Past Due (>120 days)       1.00      1.00      1.00        13\n",
            "\n",
            "              accuracy                           0.88     36046\n",
            "             macro avg       0.94      0.95      0.94     36046\n",
            "          weighted avg       0.88      0.88      0.88     36046\n",
            "\n"
          ]
        }
      ]
    },
    {
      "cell_type": "code",
      "source": [],
      "metadata": {
        "colab": {
          "base_uri": "https://localhost:8080/"
        },
        "id": "SyrNCeXyLzn_",
        "outputId": "3c1b855d-9f43-4a95-84e0-5a1021a72f93"
      },
      "execution_count": null,
      "outputs": [
        {
          "output_type": "stream",
          "name": "stderr",
          "text": [
            "/usr/local/lib/python3.10/dist-packages/joblib/externals/loky/process_executor.py:752: UserWarning: A worker stopped while some jobs were given to the executor. This can be caused by a too short worker timeout or by a memory leak.\n",
            "  warnings.warn(\n"
          ]
        },
        {
          "output_type": "stream",
          "name": "stdout",
          "text": [
            "Best Hyperparameters: {'max_depth': None, 'min_samples_leaf': 1, 'min_samples_split': 2, 'n_estimators': 200}\n",
            "Accuracy: 0.884508683349054\n",
            "                        precision    recall  f1-score   support\n",
            "\n",
            "            Chargedoff       0.89      0.99      0.94     11911\n",
            "             Completed       0.86      0.55      0.67      6815\n",
            "               Current       0.84      0.91      0.87     11052\n",
            "             Defaulted       0.95      0.99      0.97      3723\n",
            "FinalPaymentInProgress       0.97      1.00      0.98       229\n",
            "  Past Due (1-15 days)       0.97      0.99      0.98       914\n",
            " Past Due (16-30 days)       0.97      0.99      0.98       291\n",
            " Past Due (31-60 days)       0.96      1.00      0.98       419\n",
            " Past Due (61-90 days)       0.98      0.99      0.98       344\n",
            "Past Due (91-120 days)       0.97      0.99      0.98       335\n",
            "  Past Due (>120 days)       1.00      1.00      1.00        13\n",
            "\n",
            "              accuracy                           0.88     36046\n",
            "             macro avg       0.94      0.95      0.94     36046\n",
            "          weighted avg       0.88      0.88      0.88     36046\n",
            "\n"
          ]
        }
      ]
    },
    {
      "cell_type": "markdown",
      "source": [
        "# Implementing a stacking ensemble learning\n",
        "A meta-learner, also known as a level-1 model in ensemble learning, is a model that learns from the predictions made by multiple base models (level-0 models) to make final predictions. In the context of stacking ensemble learning, the meta-learner takes the predictions of the base models as input features and learns to combine them effectively to make more accurate predictions.\n",
        "\n",
        "Here's how the stacking ensemble works with a meta-learner:\n",
        "\n",
        "**Base Models (Level-0 Models):** Multiple base models are trained on the training data independently. These base models can be of different types, such as decision trees, random forests, support vector machines, etc.\n",
        "\n",
        "**Base Model Predictions:** Each base model makes predictions on the training data, and these predictions are collected.\n",
        "\n",
        "**Meta-Features:** The predictions made by the base models serve as additional features, called meta-features or meta-data, alongside the original features.\n",
        "\n",
        "**Meta-Learner (Level-1 Model):** Another model, called the meta-learner, is trained on the meta-features along with the original features. The meta-learner learns to combine the predictions of the base models effectively to make final predictions.\n",
        "\n",
        "**Final Predictions:** During inference, the base models make predictions on unseen data, and these predictions are fed into the trained meta-learner along with the original features. The meta-learner then generates the final predictions.\n",
        "\n",
        "By combining the predictions of multiple base models, the stacking ensemble can often achieve better performance than any individual base model alone. The meta-learner essentially learns to exploit the strengths of each base model and compensate for their weaknesses, resulting in more robust predictions."
      ],
      "metadata": {
        "id": "l7LNPIqCvhE7"
      }
    },
    {
      "cell_type": "code",
      "source": [
        "import pandas as pd\n",
        "import numpy as np\n",
        "from sklearn.model_selection import train_test_split\n",
        "from sklearn.tree import DecisionTreeClassifier\n",
        "from sklearn.ensemble import RandomForestClassifier, GradientBoostingClassifier\n",
        "from sklearn.metrics import accuracy_score\n",
        "from sklearn.linear_model import LogisticRegression\n",
        "from sklearn.preprocessing import LabelEncoder\n",
        "\n",
        "# Load the dataset\n",
        "loan_data = pd.read_csv('prosperLoanData.csv')\n",
        "\n",
        "# Create a copy of the dataset\n",
        "loan_data_copy = loan_data.copy()\n",
        "\n",
        "# List of columns to keep\n",
        "columns_to_keep = ['Term', 'BorrowerAPR', 'BorrowerRate', 'LenderYield', 'EstimatedEffectiveYield', 'EstimatedLoss',\n",
        "                   'EstimatedReturn', 'ProsperRating (numeric)', 'ProsperScore', 'ListingCategory (numeric)',\n",
        "                   'EmploymentStatusDuration', 'IsBorrowerHomeowner', 'CurrentlyInGroup', 'CreditScoreRangeLower',\n",
        "                   'CreditScoreRangeUpper', 'CurrentCreditLines', 'OpenCreditLines', 'TotalCreditLinespast7years',\n",
        "                   'OpenRevolvingAccounts', 'OpenRevolvingMonthlyPayment', 'InquiriesLast6Months', 'TotalInquiries',\n",
        "                   'CurrentDelinquencies', 'AmountDelinquent', 'DelinquenciesLast7Years', 'PublicRecordsLast10Years',\n",
        "                   'PublicRecordsLast12Months', 'RevolvingCreditBalance', 'BankcardUtilization', 'AvailableBankcardCredit',\n",
        "                   'TotalTrades', 'TradesNeverDelinquent (percentage)', 'TradesOpenedLast6Months', 'DebtToIncomeRatio',\n",
        "                   'IncomeVerifiable', 'StatedMonthlyIncome', 'TotalProsperLoans', 'TotalProsperPaymentsBilled',\n",
        "                   'OnTimeProsperPayments', 'ProsperPaymentsLessThanOneMonthLate', 'ProsperPaymentsOneMonthPlusLate',\n",
        "                   'ProsperPrincipalBorrowed', 'ProsperPrincipalOutstanding', 'ScorexChangeAtTimeOfListing',\n",
        "                   'LoanCurrentDaysDelinquent', 'LoanFirstDefaultedCycleNumber', 'LoanMonthsSinceOrigination',\n",
        "                   'LoanNumber', 'LoanOriginalAmount', 'MonthlyLoanPayment', 'LP_CustomerPayments',\n",
        "                   'LP_CustomerPrincipalPayments', 'LP_InterestandFees', 'LP_ServiceFees', 'LP_CollectionFees',\n",
        "                   'LP_GrossPrincipalLoss', 'LP_NetPrincipalLoss', 'LP_NonPrincipalRecoverypayments', 'PercentFunded',\n",
        "                   'Recommendations', 'InvestmentFromFriendsCount', 'InvestmentFromFriendsAmount', 'Investors', 'LoanStatus']\n",
        "\n",
        "# Create a copy of the dataset with only the relevant columns\n",
        "cleaned_loan_data = loan_data_copy[columns_to_keep].copy()\n",
        "\n",
        "# Drop rows with missing values\n",
        "cleaned_loan_data.dropna(inplace=True)\n",
        "\n",
        "# Split the data into features (X) and target variable (y)\n",
        "X = cleaned_loan_data.drop(columns=['LoanStatus'])\n",
        "y = cleaned_loan_data['LoanStatus']\n",
        "\n",
        "# Convert categorical variables to dummy variables\n",
        "X = pd.get_dummies(X)\n",
        "\n",
        "# Normalize numerical features\n",
        "numerical_features = X.select_dtypes(include=['float64', 'int64']).columns\n",
        "X[numerical_features] = (X[numerical_features] - X[numerical_features].mean()) / X[numerical_features].std()\n",
        "\n",
        "# Encode categorical labels to numeric labels\n",
        "label_encoder = LabelEncoder()\n",
        "y_encoded = label_encoder.fit_transform(y)\n",
        "\n",
        "# Split the data into training and testing sets\n",
        "X_train, X_test, y_train, y_test = train_test_split(X, y_encoded, test_size=0.2, random_state=42)\n",
        "\n",
        "# Initialize base models\n",
        "models = {\n",
        "    'Decision Tree': DecisionTreeClassifier(),\n",
        "    'Random Forest': RandomForestClassifier(),\n",
        "    'Gradient Boosting': GradientBoostingClassifier()\n",
        "}\n",
        "\n",
        "# Train and evaluate base models\n",
        "for name, model in models.items():\n",
        "    # Train the model\n",
        "    model.fit(X_train, y_train)\n",
        "\n",
        "    # Make predictions\n",
        "    y_pred = model.predict(X_test)\n",
        "\n",
        "    # Calculate accuracy\n",
        "    accuracy = accuracy_score(y_test, y_pred)\n",
        "\n",
        "    print(f\"{name} Accuracy: {accuracy:.4f}\")\n",
        "\n",
        "# Initialize meta-learner (logistic regression)\n",
        "meta_learner = LogisticRegression()\n",
        "\n",
        "# Initialize lists to store predictions from base models\n",
        "base_model_predictions_train = []\n",
        "base_model_predictions_test = []\n",
        "\n",
        "# Generate predictions for each base model\n",
        "for model in models.values():\n",
        "    # Generate predictions on the training set\n",
        "    train_predictions = model.predict(X_train)\n",
        "    base_model_predictions_train.append(train_predictions)\n",
        "\n",
        "    # Generate predictions on the test set\n",
        "    test_predictions = model.predict(X_test)\n",
        "    base_model_predictions_test.append(test_predictions)\n",
        "\n",
        "# Concatenate base model predictions along columns to create meta-features\n",
        "X_meta_train = np.column_stack(base_model_predictions_train)\n",
        "X_meta_test = np.column_stack(base_model_predictions_test)\n",
        "\n",
        "# Train meta-learner on the meta-features\n",
        "meta_learner.fit(X_meta_train, y_train)\n",
        "\n",
        "# Generate predictions using the meta-learner\n",
        "meta_train_predictions = meta_learner.predict(X_meta_train)\n",
        "meta_test_predictions = meta_learner.predict(X_meta_test)\n",
        "\n",
        "# Calculate accuracy of the meta-learner\n",
        "meta_train_accuracy = accuracy_score(y_train, meta_train_predictions)\n",
        "meta_test_accuracy = accuracy_score(y_test, meta_test_predictions)\n",
        "\n",
        "print(f\"Meta-Learner (Logistic Regression) Train Accuracy: {meta_train_accuracy:.4f}\")\n",
        "print(f\"Meta-Learner (Logistic Regression) Test Accuracy: {meta_test_accuracy:.4f}\")\n"
      ],
      "metadata": {
        "colab": {
          "base_uri": "https://localhost:8080/"
        },
        "id": "k3hU0IbDvMem",
        "outputId": "d496c407-52aa-4d46-8ecc-19f068483b5b"
      },
      "execution_count": null,
      "outputs": [
        {
          "output_type": "stream",
          "name": "stdout",
          "text": [
            "Decision Tree Accuracy: 0.8328\n",
            "Random Forest Accuracy: 0.8771\n",
            "Gradient Boosting Accuracy: 0.9010\n",
            "Meta-Learner (Logistic Regression) Train Accuracy: 0.9974\n",
            "Meta-Learner (Logistic Regression) Test Accuracy: 0.8976\n"
          ]
        }
      ]
    },
    {
      "cell_type": "markdown",
      "source": [],
      "metadata": {
        "id": "LvkXaphpyDPQ"
      }
    },
    {
      "cell_type": "markdown",
      "source": [
        "#**Ensemble Learning with Stacking:**\n",
        "\n",
        "\n",
        "\n",
        "\n",
        "###1.   Base Models:\n",
        "\n",
        "\n",
        "* >Decision Tree Accuracy: 83.62%\n",
        "\n",
        "* >Random Forest Accuracy: 87.37%\n",
        "* >Gradient Boosting Accuracy: 90.78%\n",
        "\n",
        "\n",
        "\n",
        "###2.   Meta-Learner (Logistic Regression):\n",
        "\n",
        "* > Train Accuracy: 99.74%\n",
        "*> Test Accuracy: 90.10%\n",
        "\n",
        "**Conclusion:**\n",
        "\n",
        "Stacking, a meta-ensemble technique, effectively combines predictions from multiple base models (Decision Tree, Random Forest, Gradient Boosting) to train a meta-learner (Logistic Regression).\n",
        "The meta-learner achieves high accuracy on both the training and testing sets, indicating its ability to learn from the base models' predictions and make accurate predictions.\n",
        "Stacking demonstrates the effectiveness of combining multiple models to improve overall predictive performance."
      ],
      "metadata": {
        "id": "Loz2vecYwiM5"
      }
    },
    {
      "cell_type": "code",
      "source": [
        "import pandas as pd\n",
        "import numpy as np\n",
        "from sklearn.model_selection import train_test_split\n",
        "from sklearn.tree import DecisionTreeClassifier\n",
        "from sklearn.ensemble import RandomForestClassifier, GradientBoostingClassifier\n",
        "from sklearn.metrics import accuracy_score\n",
        "from sklearn.linear_model import LogisticRegression\n",
        "from sklearn.preprocessing import LabelEncoder\n",
        "\n",
        "# Load the dataset\n",
        "loan_data = pd.read_csv('prosperLoanData.csv')\n",
        "\n",
        "# Create a copy of the dataset\n",
        "loan_data_copy = loan_data.copy()\n",
        "\n",
        "# List of columns to keep\n",
        "columns_to_keep = ['Term', 'BorrowerAPR', 'BorrowerRate', 'LenderYield', 'EstimatedEffectiveYield', 'EstimatedLoss',\n",
        "                   'EstimatedReturn', 'ProsperRating (numeric)', 'ProsperScore', 'ListingCategory (numeric)',\n",
        "                   'EmploymentStatusDuration', 'IsBorrowerHomeowner', 'CurrentlyInGroup', 'CreditScoreRangeLower',\n",
        "                   'CreditScoreRangeUpper', 'CurrentCreditLines', 'OpenCreditLines', 'TotalCreditLinespast7years',\n",
        "                   'OpenRevolvingAccounts', 'OpenRevolvingMonthlyPayment', 'InquiriesLast6Months', 'TotalInquiries',\n",
        "                   'CurrentDelinquencies', 'AmountDelinquent', 'DelinquenciesLast7Years', 'PublicRecordsLast10Years',\n",
        "                   'PublicRecordsLast12Months', 'RevolvingCreditBalance', 'BankcardUtilization', 'AvailableBankcardCredit',\n",
        "                   'TotalTrades', 'TradesNeverDelinquent (percentage)', 'TradesOpenedLast6Months', 'DebtToIncomeRatio',\n",
        "                   'IncomeVerifiable', 'StatedMonthlyIncome', 'TotalProsperLoans', 'TotalProsperPaymentsBilled',\n",
        "                   'OnTimeProsperPayments', 'ProsperPaymentsLessThanOneMonthLate', 'ProsperPaymentsOneMonthPlusLate',\n",
        "                   'ProsperPrincipalBorrowed', 'ProsperPrincipalOutstanding', 'ScorexChangeAtTimeOfListing',\n",
        "                   'LoanCurrentDaysDelinquent', 'LoanFirstDefaultedCycleNumber', 'LoanMonthsSinceOrigination',\n",
        "                   'LoanNumber', 'LoanOriginalAmount', 'MonthlyLoanPayment', 'LP_CustomerPayments',\n",
        "                   'LP_CustomerPrincipalPayments', 'LP_InterestandFees', 'LP_ServiceFees', 'LP_CollectionFees',\n",
        "                   'LP_GrossPrincipalLoss', 'LP_NetPrincipalLoss', 'LP_NonPrincipalRecoverypayments', 'PercentFunded',\n",
        "                   'Recommendations', 'InvestmentFromFriendsCount', 'InvestmentFromFriendsAmount', 'Investors', 'LoanStatus']\n",
        "\n",
        "# Create a copy of the dataset with only the relevant columns\n",
        "cleaned_loan_data = loan_data_copy[columns_to_keep].copy()\n",
        "\n",
        "# Drop rows with missing values\n",
        "cleaned_loan_data.dropna(inplace=True)\n",
        "\n",
        "# Split the data into features (X) and target variable (y)\n",
        "X = cleaned_loan_data.drop(columns=['LoanStatus'])\n",
        "y = cleaned_loan_data['LoanStatus']\n",
        "\n",
        "# Convert categorical variables to dummy variables\n",
        "X = pd.get_dummies(X)\n",
        "\n",
        "# Normalize numerical features\n",
        "numerical_features = X.select_dtypes(include=['float64', 'int64']).columns\n",
        "X[numerical_features] = (X[numerical_features] - X[numerical_features].mean()) / X[numerical_features].std()\n",
        "\n",
        "# Encode categorical labels to numeric labels\n",
        "label_encoder = LabelEncoder()\n",
        "y_encoded = label_encoder.fit_transform(y)\n",
        "\n",
        "# Split the data into training and testing sets\n",
        "X_train, X_test, y_train, y_test = train_test_split(X, y_encoded, test_size=0.2, random_state=42)\n",
        "\n",
        "# Initialize base models\n",
        "models = {\n",
        "    'Decision Tree': DecisionTreeClassifier(),\n",
        "    'Random Forest': RandomForestClassifier(),\n",
        "    'Gradient Boosting': GradientBoostingClassifier()\n",
        "}\n",
        "\n",
        "# Train and evaluate base models\n",
        "for name, model in models.items():\n",
        "    # Train the model\n",
        "    model.fit(X_train, y_train)\n",
        "\n",
        "    # Make predictions\n",
        "    y_pred = model.predict(X_test)\n",
        "\n",
        "    # Calculate accuracy\n",
        "    accuracy = accuracy_score(y_test, y_pred)\n",
        "\n",
        "    # Calculate train accuracy\n",
        "    y_train_pred = model.predict(X_train)\n",
        "    train_accuracy = accuracy_score(y_train, y_train_pred)\n",
        "\n",
        "    print(f\"{name} Accuracy - Train: {train_accuracy:.4f}, Test: {accuracy:.4f}\")\n",
        "\n",
        "# Initialize meta-learner (logistic regression)\n",
        "meta_learner = LogisticRegression()\n",
        "\n",
        "# Initialize lists to store predictions from base models\n",
        "base_model_predictions_train = []\n",
        "base_model_predictions_test = []\n",
        "\n",
        "# Generate predictions for each base model\n",
        "for name, model in models.items():\n",
        "    # Train the model on the entire training set\n",
        "    model.fit(X_train, y_train)\n",
        "\n",
        "    # Generate predictions on training and testing sets\n",
        "    train_predictions = model.predict(X_train)\n",
        "    test_predictions = model.predict(X_test)\n",
        "\n",
        "    base_model_predictions_train.append(train_predictions)\n",
        "    base_model_predictions_test.append(test_predictions)\n",
        "\n",
        "# Concatenate base model predictions along columns to create meta-features\n",
        "X_meta_train = np.column_stack(base_model_predictions_train)\n",
        "X_meta_test = np.column_stack(base_model_predictions_test)\n",
        "\n",
        "# Train meta-learner on the meta-features\n",
        "meta_learner.fit(X_meta_train, y_train)\n",
        "\n",
        "# Generate predictions using the meta-learner\n",
        "meta_train_predictions = meta_learner.predict(X_meta_train)\n",
        "meta_test_predictions = meta_learner.predict(X_meta_test)\n",
        "\n",
        "# Calculate accuracy of the meta-learner\n",
        "meta_train_accuracy = accuracy_score(y_train, meta_train_predictions)\n",
        "meta_test_accuracy = accuracy_score(y_test, meta_test_predictions)\n",
        "\n",
        "print(f\"Meta-Learner (Logistic Regression) Train Accuracy: {meta_train_accuracy:.4f}\")\n",
        "print(f\"Meta-Learner (Logistic Regression) Test Accuracy: {meta_test_accuracy:.4f}\")\n"
      ],
      "metadata": {
        "colab": {
          "base_uri": "https://localhost:8080/"
        },
        "id": "jckUUp4B05J7",
        "outputId": "6181acbe-e191-4eaa-9a6a-ffa5d6d6d214"
      },
      "execution_count": null,
      "outputs": [
        {
          "output_type": "stream",
          "name": "stdout",
          "text": [
            "Decision Tree Accuracy - Train: 1.0000, Test: 0.8430\n",
            "Random Forest Accuracy - Train: 1.0000, Test: 0.8703\n",
            "Gradient Boosting Accuracy - Train: 0.9915, Test: 0.9044\n",
            "Meta-Learner (Logistic Regression) Train Accuracy: 0.9974\n",
            "Meta-Learner (Logistic Regression) Test Accuracy: 0.8976\n"
          ]
        }
      ]
    },
    {
      "cell_type": "markdown",
      "source": [
        "#Interest Rate Prediction\n",
        "##To develop a model to predict the interest rate for a loan based on borrower attributes, loan features, and market conditions:"
      ],
      "metadata": {
        "id": "IQMVOMDO02gg"
      }
    },
    {
      "cell_type": "code",
      "source": [
        "# Import necessary libraries\n",
        "import pandas as pd\n",
        "from sklearn.model_selection import train_test_split\n",
        "from sklearn.ensemble import RandomForestRegressor\n",
        "from sklearn.metrics import mean_squared_error, mean_absolute_error\n",
        "import matplotlib.pyplot as plt\n",
        "import seaborn as sns\n",
        "# Load the dataset using pd.read_csv\n",
        "prosper_data = pd.read_csv('prosperLoanData.csv')\n",
        "\n",
        "# Select relevant features and target variable\n",
        "features = ['LoanOriginalAmount', 'StatedMonthlyIncome', 'Term', 'EmploymentStatus', 'CreditScoreRangeLower', 'CreditScoreRangeUpper']\n",
        "target = 'BorrowerRate'\n",
        "data = prosper_data[features + [target]]\n",
        "\n",
        "# Drop rows with missing values\n",
        "data = data.dropna()\n",
        "\n",
        "# Convert categorical variables to numerical\n",
        "data = pd.get_dummies(data, columns=['Term', 'EmploymentStatus'], drop_first=True)\n",
        "\n",
        "# Split the dataset into training and test sets\n",
        "X = data.drop(target, axis=1)\n",
        "y = data[target]\n",
        "X_train, X_test, y_train, y_test = train_test_split(X, y, test_size=0.2, random_state=42)\n",
        "\n",
        "# Create a random forest regressor\n",
        "regressor = RandomForestRegressor(n_estimators=100, random_state=42)\n",
        "\n",
        "# Train the regressor\n",
        "regressor.fit(X_train, y_train)\n",
        "\n",
        "# Make predictions on the test set\n",
        "y_pred = regressor.predict(X_test)\n",
        "\n",
        "# Evaluate the regressor\n",
        "mse = mean_squared_error(y_test, y_pred)\n",
        "mae = mean_absolute_error(y_test, y_pred)\n",
        "print(f'Mean Squared Error: {mse}')\n",
        "print(f'Mean Absolute Error: {mae}')\n",
        "# Create a scatter plot to compare actual vs. predicted interest rates\n",
        "import matplotlib.pyplot as plt\n",
        "\n",
        "# Plot actual vs predicted interest rates\n",
        "plt.figure(figsize=(10, 6))\n",
        "\n",
        "# Plot actual interest rates\n",
        "plt.plot(y_test.values, label='Actual', color='blue')\n",
        "\n",
        "# Plot predicted interest rates\n",
        "plt.plot(y_pred, label='Predicted', color='red')\n",
        "\n",
        "plt.title('Actual vs Predicted Interest Rates')\n",
        "plt.xlabel('Data Points')\n",
        "plt.ylabel('Interest Rate')\n",
        "plt.legend()\n",
        "plt.show()"
      ],
      "metadata": {
        "colab": {
          "base_uri": "https://localhost:8080/",
          "height": 600
        },
        "id": "mCio9vmT01qZ",
        "outputId": "e63f7670-893e-44de-d834-c99be9a93a97"
      },
      "execution_count": null,
      "outputs": [
        {
          "output_type": "stream",
          "name": "stdout",
          "text": [
            "Mean Squared Error: 0.0036519613382076242\n",
            "Mean Absolute Error: 0.0458699946746597\n"
          ]
        },
        {
          "output_type": "display_data",
          "data": {
            "text/plain": [
              "<Figure size 1000x600 with 1 Axes>"
            ],
            "image/png": "[encoded data removed]"
          },
          "metadata": {}
        }
      ]
    },
    {
      "cell_type": "markdown",
      "source": [],
      "metadata": {
        "id": "eoo4JDMc2R-M"
      }
    },
    {
      "cell_type": "code",
      "source": [],
      "metadata": {
        "id": "dxY1vDEdl4M1"
      },
      "execution_count": null,
      "outputs": []
    },
    {
      "cell_type": "markdown",
      "source": [
        "#Borrower Rate Forecasting Using ARIMA"
      ],
      "metadata": {
        "id": "_C7OnMZRoQqe"
      }
    },
    {
      "cell_type": "code",
      "source": [
        "# Import necessary libraries\n",
        "import pandas as pd\n",
        "import numpy as np\n",
        "import matplotlib.pyplot as plt\n",
        "from statsmodels.tsa.arima.model import ARIMA\n",
        "from sklearn.metrics import mean_squared_error\n",
        "\n",
        "# Load the dataset\n",
        "prosper_data = pd.read_csv('prosperLoanData.csv')\n",
        "\n",
        "# Preprocess the data\n",
        "data = prosper_data[['LoanOriginationDate', 'BorrowerRate']]\n",
        "data['LoanOriginationDate'] = pd.to_datetime(data['LoanOriginationDate'])\n",
        "data = data.set_index('LoanOriginationDate')\n",
        "\n",
        "# Resample the data to monthly frequency and fill missing values\n",
        "data = data.resample('M').mean().fillna(method='ffill')\n",
        "\n",
        "# Split the data into train and test sets\n",
        "train_size = int(len(data) * 0.8)\n",
        "train, test = data.iloc[:train_size], data.iloc[train_size:]\n",
        "\n",
        "# Define and fit the ARIMA model\n",
        "model = ARIMA(train, order=(5,1,0))\n",
        "model_fit = model.fit()\n",
        "\n",
        "# Forecast future values\n",
        "forecast = model_fit.forecast(steps=len(test))\n",
        "\n",
        "# Calculate RMSE\n",
        "rmse = np.sqrt(mean_squared_error(test, forecast))\n",
        "print(f'Root Mean Squared Error (RMSE): {rmse}')\n",
        "\n",
        "# Visualize the forecast\n",
        "plt.figure(figsize=(12, 6))\n",
        "plt.plot(train, label='Training Data')\n",
        "plt.plot(test.index, forecast, label='Forecast', color='red')\n",
        "plt.title('Loan Performance Forecast using ARIMA')\n",
        "plt.xlabel('Date')\n",
        "plt.ylabel('Borrower Rate')\n",
        "plt.legend()\n",
        "plt.show()\n"
      ],
      "metadata": {
        "colab": {
          "base_uri": "https://localhost:8080/",
          "height": 691
        },
        "id": "F4_AzrP-gmv6",
        "outputId": "c4cf83bd-f17e-491d-984f-891b2aa9a9a9"
      },
      "execution_count": null,
      "outputs": [
        {
          "output_type": "stream",
          "name": "stderr",
          "text": [
            "<ipython-input-6-d614094181fb>:13: SettingWithCopyWarning: \n",
            "A value is trying to be set on a copy of a slice from a DataFrame.\n",
            "Try using .loc[row_indexer,col_indexer] = value instead\n",
            "\n",
            "See the caveats in the documentation: https://pandas.pydata.org/pandas-docs/stable/user_guide/indexing.html#returning-a-view-versus-a-copy\n",
            "  data['LoanOriginationDate'] = pd.to_datetime(data['LoanOriginationDate'])\n"
          ]
        },
        {
          "output_type": "stream",
          "name": "stdout",
          "text": [
            "Root Mean Squared Error (RMSE): 0.03637562418247235\n"
          ]
        },
        {
          "output_type": "display_data",
          "data": {
            "text/plain": [
              "<Figure size 1200x600 with 1 Axes>"
            ],
            "image/png": "[encoded data removed]"
          },
          "metadata": {}
        }
      ]
    }
  ]
}